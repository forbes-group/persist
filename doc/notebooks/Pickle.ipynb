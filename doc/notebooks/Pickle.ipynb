{
 "cells": [
  {
   "cell_type": "markdown",
   "metadata": {},
   "source": [
    "Here we check to see if we can use some of the code in the standard library ``pickle.py``  to simplify our life and solve [issue #5](https://bitbucket.org/mforbes/persist/issue/5/use-pickle-protocol-if-provided)."
   ]
  },
  {
   "cell_type": "code",
   "execution_count": 1,
   "metadata": {
    "collapsed": false
   },
   "outputs": [],
   "source": [
    "from StringIO import StringIO\n",
    "import pickle\n",
    "file = StringIO()\n",
    "p = pickle.Pickler(file)"
   ]
  },
  {
   "cell_type": "markdown",
   "metadata": {},
   "source": [
    "# Old-style classes "
   ]
  },
  {
   "cell_type": "code",
   "execution_count": 2,
   "metadata": {
    "collapsed": false
   },
   "outputs": [
    {
     "name": "stdout",
     "output_type": "stream",
     "text": [
      "__init__(*(), **{})\n",
      "{'y': 2}\n"
     ]
    }
   ],
   "source": [
    "# No special methods: __dict__ is copied\n",
    "class A:\n",
    "    def __init__(self, *v, **kw):\n",
    "        print('__init__(*{}, **{})'.format(v, kw))\n",
    "\n",
    "a = A()\n",
    "a.y = 2\n",
    "a1 = pickle.loads(pickle.dumps(a))\n",
    "print  a1.__dict__"
   ]
  },
  {
   "cell_type": "code",
   "execution_count": 3,
   "metadata": {
    "collapsed": false
   },
   "outputs": [
    {
     "name": "stdout",
     "output_type": "stream",
     "text": [
      "__init__(*(), **{})\n",
      "__setstate__({'y': 2})\n",
      "{}\n"
     ]
    }
   ],
   "source": [
    "# __setstate__ passed __dict__\n",
    "# __dict__ not updated explicitly\n",
    "class A:\n",
    "    def __init__(self, *v, **kw):\n",
    "        print('__init__(*{}, **{})'.format(v, kw))\n",
    "    def __setstate__(self, state):\n",
    "        print('__setstate__({})'.format(state))\n",
    "\n",
    "a = A()\n",
    "a.y = 2\n",
    "a1 = pickle.loads(pickle.dumps(a))\n",
    "print  a1.__dict__"
   ]
  },
  {
   "cell_type": "code",
   "execution_count": 4,
   "metadata": {
    "collapsed": false
   },
   "outputs": [
    {
     "name": "stdout",
     "output_type": "stream",
     "text": [
      "__init__(*(), **{})\n",
      "__getstate__()\n",
      "{'x': 1}\n"
     ]
    }
   ],
   "source": [
    "# __getstate__ called instead of __dict__\n",
    "class A:\n",
    "    def __init__(self, *v, **kw):\n",
    "        print('__init__(*{}, **{})'.format(v, kw))\n",
    "    def __getstate__(self):\n",
    "        print('__getstate__()')\n",
    "        return dict(x=1)\n",
    "\n",
    "a = A()\n",
    "a.y = 2\n",
    "a1 = pickle.loads(pickle.dumps(a))\n",
    "print  a1.__dict__"
   ]
  },
  {
   "cell_type": "code",
   "execution_count": 5,
   "metadata": {
    "collapsed": false
   },
   "outputs": [
    {
     "name": "stdout",
     "output_type": "stream",
     "text": [
      "__init__(*(), **{})\n",
      "__getstate__()\n",
      "__setstate__({'x': 1})\n",
      "{}\n"
     ]
    }
   ],
   "source": [
    "# __getstate__ called and passed to __setstate__\n",
    "class A:\n",
    "    def __init__(self, *v, **kw):\n",
    "        print('__init__(*{}, **{})'.format(v, kw))\n",
    "    def __getstate__(self):\n",
    "        print('__getstate__()')\n",
    "        return dict(x=1)\n",
    "    def __setstate__(self, state):\n",
    "        print('__setstate__({})'.format(state))\n",
    "\n",
    "\n",
    "a = A()\n",
    "a.y = 2\n",
    "a1 = pickle.loads(pickle.dumps(a))\n",
    "print  a1.__dict__"
   ]
  },
  {
   "cell_type": "code",
   "execution_count": 6,
   "metadata": {
    "collapsed": false
   },
   "outputs": [
    {
     "name": "stdout",
     "output_type": "stream",
     "text": [
      "__init__(*(), **{})\n",
      "__getinitargs__()\n",
      "__getstate__()\n",
      "__init__(*('a', 3), **{})\n",
      "__setstate__({'x': 1})\n",
      "{}\n"
     ]
    }
   ],
   "source": [
    "# __getstate__ called and passed to __setstate__\n",
    "# Both __init__ called (without kw) and __setstate__ called\n",
    "# __dict__ ignored\n",
    "class A:\n",
    "    def __init__(self, *v, **kw):\n",
    "        print('__init__(*{}, **{})'.format(v, kw))\n",
    "    def __getinitargs__(self):\n",
    "        print('__getinitargs__()')\n",
    "        return ('a', 3)\n",
    "    def __getstate__(self):\n",
    "        print('__getstate__()')\n",
    "        return dict(x=1)\n",
    "    def __setstate__(self, state):\n",
    "        print('__setstate__({})'.format(state))\n",
    "\n",
    "a = A()\n",
    "a.y = 2\n",
    "a1 = pickle.loads(pickle.dumps(a))\n",
    "print  a1.__dict__"
   ]
  },
  {
   "cell_type": "markdown",
   "metadata": {},
   "source": [
    "# New-style classes"
   ]
  },
  {
   "cell_type": "code",
   "execution_count": 8,
   "metadata": {
    "collapsed": false
   },
   "outputs": [
    {
     "name": "stdout",
     "output_type": "stream",
     "text": [
      "__init__(*(), **{})\n",
      "{'y': 2}\n"
     ]
    }
   ],
   "source": [
    "# No special methods: __dict__ is copied\n",
    "class A(object):\n",
    "    def __init__(self, *v, **kw):\n",
    "        print('__init__(*{}, **{})'.format(v, kw))\n",
    "\n",
    "a = A()\n",
    "a.y = 2\n",
    "a1 = pickle.loads(pickle.dumps(a))\n",
    "print a1.__dict__"
   ]
  },
  {
   "cell_type": "code",
   "execution_count": 9,
   "metadata": {
    "collapsed": false
   },
   "outputs": [
    {
     "name": "stdout",
     "output_type": "stream",
     "text": [
      "__new__(*(), **{})\n",
      "__init__(*(), **{})\n",
      "__new__(*(), **{})\n",
      "{'y': 2}\n"
     ]
    }
   ],
   "source": [
    "# No special methods: __dict__ is copied\n",
    "# __new__ is called for protocol >= 2\n",
    "# __init__ is not called\n",
    "class A(object):\n",
    "    def __new__(cls, *v, **kw):\n",
    "        print('__new__(*{}, **{})'.format(v, kw))\n",
    "        return object.__new__(cls)\n",
    "    def __init__(self, *v, **kw):\n",
    "        print('__init__(*{}, **{})'.format(v, kw))\n",
    "\n",
    "a = A()\n",
    "a.y = 2\n",
    "a1 = pickle.loads(pickle.dumps(a, protocol=2))\n",
    "print a1.__dict__"
   ]
  },
  {
   "cell_type": "code",
   "execution_count": 10,
   "metadata": {
    "collapsed": false
   },
   "outputs": [
    {
     "name": "stdout",
     "output_type": "stream",
     "text": [
      "__new__(*(), **{})\n",
      "__init__(*(), **{})\n",
      "__new__(*(), **{})\n",
      "{'y': 2}\n"
     ]
    }
   ],
   "source": [
    "# __getinitargs__ ignored in new-style classes\n",
    "# __dict__ is still copied\n",
    "class A(object):\n",
    "    def __new__(cls, *v, **kw):\n",
    "        print('__new__(*{}, **{})'.format(v, kw))\n",
    "        return object.__new__(cls)\n",
    "    def __init__(self, *v, **kw):\n",
    "        print('__init__(*{}, **{})'.format(v, kw))\n",
    "    def __getinitargs__(self):\n",
    "        print('__getinitargs__()')\n",
    "        return ('a', 3)\n",
    "a = A()\n",
    "a.y = 2\n",
    "a1 = pickle.loads(pickle.dumps(a, protocol=2))\n",
    "print a1.__dict__"
   ]
  },
  {
   "cell_type": "code",
   "execution_count": 11,
   "metadata": {
    "collapsed": false
   },
   "outputs": [
    {
     "name": "stdout",
     "output_type": "stream",
     "text": [
      "__new__(*(), **{})\n",
      "__init__(*(), **{})\n",
      "__getnewargs__()\n",
      "__new__(*('a', 3), **{})\n",
      "{'y': 2}\n"
     ]
    }
   ],
   "source": [
    "# __getnewargs__ called for protocol >= 2\n",
    "# __dict__ still copied\n",
    "class A(object):\n",
    "    def __new__(cls, *v, **kw):\n",
    "        print('__new__(*{}, **{})'.format(v, kw))\n",
    "        return object.__new__(cls)\n",
    "    def __init__(self, *v, **kw):\n",
    "        print('__init__(*{}, **{})'.format(v, kw))\n",
    "    def __getnewargs__(self):\n",
    "        print('__getnewargs__()')\n",
    "        return ('a', 3)\n",
    "a = A()\n",
    "a.y = 2\n",
    "a1 = pickle.loads(pickle.dumps(a, protocol=2))\n",
    "print a1.__dict__"
   ]
  },
  {
   "cell_type": "code",
   "execution_count": 12,
   "metadata": {
    "collapsed": false
   },
   "outputs": [
    {
     "name": "stdout",
     "output_type": "stream",
     "text": [
      "__new__(*(), **{})\n",
      "__init__(*(), **{})\n",
      "__getnewargs__()\n",
      "__getstate__()\n",
      "__new__(*('a', 3), **{})\n",
      "{'x': 1}\n"
     ]
    }
   ],
   "source": [
    "# __getnewargs__ called for protocol >= 2\n",
    "# __dict__ still copied but from __getstate__ now\n",
    "class A(object):\n",
    "    def __new__(cls, *v, **kw):\n",
    "        print('__new__(*{}, **{})'.format(v, kw))\n",
    "        return object.__new__(cls)\n",
    "    def __init__(self, *v, **kw):\n",
    "        print('__init__(*{}, **{})'.format(v, kw))\n",
    "    def __getnewargs__(self):\n",
    "        print('__getnewargs__()')\n",
    "        return ('a', 3)\n",
    "    def __getstate__(self):\n",
    "        print('__getstate__()')\n",
    "        return dict(x=1)\n",
    "    \n",
    "a = A()\n",
    "a.y = 2\n",
    "a1 = pickle.loads(pickle.dumps(a, protocol=2))\n",
    "print a1.__dict__"
   ]
  },
  {
   "cell_type": "code",
   "execution_count": 13,
   "metadata": {
    "collapsed": false
   },
   "outputs": [
    {
     "name": "stdout",
     "output_type": "stream",
     "text": [
      "__new__(*(), **{})\n",
      "__init__(*(), **{})\n",
      "__getnewargs__()\n",
      "__getstate__()\n",
      "__new__(*('a', 3), **{})\n",
      "__setstate__({'x': 1})\n",
      "{}\n"
     ]
    }
   ],
   "source": [
    "# __getnewargs__ called for protocol >= 2\n",
    "# __dict__ still copied but from __getstate__ now\n",
    "class A(object):\n",
    "    def __new__(cls, *v, **kw):\n",
    "        print('__new__(*{}, **{})'.format(v, kw))\n",
    "        return object.__new__(cls)\n",
    "    def __init__(self, *v, **kw):\n",
    "        print('__init__(*{}, **{})'.format(v, kw))\n",
    "    def __getnewargs__(self):\n",
    "        print('__getnewargs__()')\n",
    "        return ('a', 3)\n",
    "    def __getstate__(self):\n",
    "        print('__getstate__()')\n",
    "        return dict(x=1)\n",
    "    def __setstate__(self, state):\n",
    "        print('__setstate__({})'.format(state))    \n",
    "    \n",
    "a = A()\n",
    "a.y = 2\n",
    "a1 = pickle.loads(pickle.dumps(a, protocol=2))\n",
    "print a1.__dict__"
   ]
  },
  {
   "cell_type": "markdown",
   "metadata": {},
   "source": [
    "## Summary"
   ]
  },
  {
   "cell_type": "markdown",
   "metadata": {},
   "source": [
    "* With new-style classes, ``__init__`` is never called.  One must define everything by updating ``__dict__`` or calling ``__setstate__``.\n"
   ]
  },
  {
   "cell_type": "code",
   "execution_count": 1,
   "metadata": {
    "collapsed": false
   },
   "outputs": [
    {
     "name": "stdout",
     "output_type": "stream",
     "text": [
      "def f(klass, newargs=None, initargs=None, state=None):\n",
      "    if newargs is not None:\n",
      "        obj = klass.__new__(klass, *newargs)\n",
      "    elif initargs is not None:\n",
      "        obj = klass(*initargs)\n",
      "    getattr(instobj, '__setstate__', obj.__dict__.update)(state)\n",
      "    return obj\n",
      "try: del __builtins__\n",
      "except NameError: pass\n"
     ]
    }
   ],
   "source": [
    "import sys\n",
    "sys.path.insert(0, '../..')\n",
    "import persist.archive; reload(persist.archive)\n",
    "import persist.interfaces; reload(persist.interfaces)\n",
    "\n",
    "a = persist.archive.Archive(scoped=False)\n",
    "a.insert(f=persist.archive._from_pickle_state)\n",
    "print str(a)"
   ]
  },
  {
   "cell_type": "code",
   "execution_count": 14,
   "metadata": {
    "collapsed": true
   },
   "outputs": [],
   "source": [
    "import numpy as np\n",
    "import uncertainties\n",
    "np.random.seed(3)\n",
    "cov = np.random.random((3, 3))\n",
    "x = [1, 2, 3]\n",
    "u = uncertainties.correlated_values(\n",
    "    nom_values=x, covariance_mat=cov, tags=['a', 'b', 'c'])\n",
    "u = uncertainties.ufloat(0.1, 0.2)"
   ]
  },
  {
   "cell_type": "code",
   "execution_count": 36,
   "metadata": {
    "collapsed": false
   },
   "outputs": [
    {
     "ename": "CycleError",
     "evalue": "Archive contains cyclic dependencies.",
     "output_type": "error",
     "traceback": [
      "\u001b[0;31m---------------------------------------------------------------------------\u001b[0m",
      "\u001b[0;31mCycleError\u001b[0m                                Traceback (most recent call last)",
      "\u001b[0;32m<ipython-input-36-8c62985410d1>\u001b[0m in \u001b[0;36m<module>\u001b[0;34m()\u001b[0m\n\u001b[1;32m      2\u001b[0m \u001b[0ma\u001b[0m \u001b[0;34m=\u001b[0m \u001b[0mpersist\u001b[0m\u001b[0;34m.\u001b[0m\u001b[0marchive\u001b[0m\u001b[0;34m.\u001b[0m\u001b[0mArchive\u001b[0m\u001b[0;34m(\u001b[0m\u001b[0;34m)\u001b[0m\u001b[0;34m\u001b[0m\u001b[0m\n\u001b[1;32m      3\u001b[0m \u001b[0ma\u001b[0m\u001b[0;34m.\u001b[0m\u001b[0minsert\u001b[0m\u001b[0;34m(\u001b[0m\u001b[0mu\u001b[0m\u001b[0;34m=\u001b[0m\u001b[0mu\u001b[0m\u001b[0;34m)\u001b[0m\u001b[0;34m\u001b[0m\u001b[0m\n\u001b[0;32m----> 4\u001b[0;31m \u001b[0;32mprint\u001b[0m \u001b[0mstr\u001b[0m\u001b[0;34m(\u001b[0m\u001b[0ma\u001b[0m\u001b[0;34m)\u001b[0m\u001b[0;34m\u001b[0m\u001b[0m\n\u001b[0m",
      "\u001b[0;32m/Users/mforbes/work/mmfbb/persist/persist/archive.py\u001b[0m in \u001b[0;36m__str__\u001b[0;34m(self)\u001b[0m\n\u001b[1;32m   1088\u001b[0m         \"\"\"\n\u001b[1;32m   1089\u001b[0m         \u001b[0;32mif\u001b[0m \u001b[0mself\u001b[0m\u001b[0;34m.\u001b[0m\u001b[0mscoped\u001b[0m\u001b[0;34m:\u001b[0m\u001b[0;34m\u001b[0m\u001b[0m\n\u001b[0;32m-> 1090\u001b[0;31m             \u001b[0;32mreturn\u001b[0m \u001b[0mself\u001b[0m\u001b[0;34m.\u001b[0m\u001b[0mscoped__str__\u001b[0m\u001b[0;34m(\u001b[0m\u001b[0;34m)\u001b[0m\u001b[0;34m\u001b[0m\u001b[0m\n\u001b[0m\u001b[1;32m   1091\u001b[0m         \u001b[0;32melse\u001b[0m\u001b[0;34m:\u001b[0m\u001b[0;34m\u001b[0m\u001b[0m\n\u001b[1;32m   1092\u001b[0m             \u001b[0;32mreturn\u001b[0m \u001b[0mself\u001b[0m\u001b[0;34m.\u001b[0m\u001b[0munscoped_str\u001b[0m\u001b[0;34m(\u001b[0m\u001b[0;34m)\u001b[0m\u001b[0;34m\u001b[0m\u001b[0m\n",
      "\u001b[0;32m/Users/mforbes/work/mmfbb/persist/persist/archive.py\u001b[0m in \u001b[0;36mscoped__str__\u001b[0;34m(self)\u001b[0m\n\u001b[1;32m   1128\u001b[0m             graph = _Graph(objects=self.arch,\n\u001b[1;32m   1129\u001b[0m                            \u001b[0mget_persistent_rep\u001b[0m\u001b[0;34m=\u001b[0m\u001b[0mself\u001b[0m\u001b[0;34m.\u001b[0m\u001b[0mget_persistent_rep\u001b[0m\u001b[0;34m,\u001b[0m\u001b[0;34m\u001b[0m\u001b[0m\n\u001b[0;32m-> 1130\u001b[0;31m                            gname_prefix=self.gname_prefix)\n\u001b[0m\u001b[1;32m   1131\u001b[0m         \u001b[0;32mexcept\u001b[0m \u001b[0mtopsort\u001b[0m\u001b[0;34m.\u001b[0m\u001b[0mCycleError\u001b[0m\u001b[0;34m,\u001b[0m \u001b[0merr\u001b[0m\u001b[0;34m:\u001b[0m\u001b[0;34m\u001b[0m\u001b[0m\n\u001b[1;32m   1132\u001b[0m             \u001b[0;32mraise\u001b[0m \u001b[0mCycleError\u001b[0m\u001b[0;34m,\u001b[0m \u001b[0merr\u001b[0m\u001b[0;34m.\u001b[0m\u001b[0margs\u001b[0m\u001b[0;34m,\u001b[0m \u001b[0msys\u001b[0m\u001b[0;34m.\u001b[0m\u001b[0mexc_info\u001b[0m\u001b[0;34m(\u001b[0m\u001b[0;34m)\u001b[0m\u001b[0;34m[\u001b[0m\u001b[0;34m-\u001b[0m\u001b[0;36m1\u001b[0m\u001b[0;34m]\u001b[0m\u001b[0;34m\u001b[0m\u001b[0m\n",
      "\u001b[0;32m/Users/mforbes/work/mmfbb/persist/persist/archive.py\u001b[0m in \u001b[0;36m__init__\u001b[0;34m(self, objects, get_persistent_rep, gname_prefix, allowed_names)\u001b[0m\n\u001b[1;32m   2017\u001b[0m             \u001b[0mself\u001b[0m\u001b[0;34m.\u001b[0m\u001b[0m_DFS\u001b[0m\u001b[0;34m(\u001b[0m\u001b[0mnode\u001b[0m\u001b[0;34m=\u001b[0m\u001b[0mself\u001b[0m\u001b[0;34m.\u001b[0m\u001b[0mnodes\u001b[0m\u001b[0;34m[\u001b[0m\u001b[0m_id\u001b[0m\u001b[0;34m]\u001b[0m\u001b[0;34m,\u001b[0m \u001b[0menv\u001b[0m\u001b[0;34m=\u001b[0m\u001b[0mself\u001b[0m\u001b[0;34m.\u001b[0m\u001b[0menvs\u001b[0m\u001b[0;34m[\u001b[0m\u001b[0m_id\u001b[0m\u001b[0;34m]\u001b[0m\u001b[0;34m)\u001b[0m\u001b[0;34m\u001b[0m\u001b[0m\n\u001b[1;32m   2018\u001b[0m \u001b[0;34m\u001b[0m\u001b[0m\n\u001b[0;32m-> 2019\u001b[0;31m         \u001b[0mself\u001b[0m\u001b[0;34m.\u001b[0m\u001b[0morder\u001b[0m \u001b[0;34m=\u001b[0m \u001b[0mself\u001b[0m\u001b[0;34m.\u001b[0m\u001b[0m_topological_order\u001b[0m\u001b[0;34m(\u001b[0m\u001b[0;34m)\u001b[0m\u001b[0;34m\u001b[0m\u001b[0m\n\u001b[0m\u001b[1;32m   2020\u001b[0m \u001b[0;34m\u001b[0m\u001b[0m\n\u001b[1;32m   2021\u001b[0m         \u001b[0;31m# Add all reverse links from child to parent nodes.\u001b[0m\u001b[0;34m\u001b[0m\u001b[0;34m\u001b[0m\u001b[0m\n",
      "\u001b[0;32m/Users/mforbes/work/mmfbb/persist/persist/archive.py\u001b[0m in \u001b[0;36m_topological_order\u001b[0;34m(self)\u001b[0m\n\u001b[1;32m   1802\u001b[0m         r\"\"\"Return a list of the ids for all nodes in the graph in a\n\u001b[1;32m   1803\u001b[0m         topological order.\"\"\"\n\u001b[0;32m-> 1804\u001b[0;31m         \u001b[0morder\u001b[0m \u001b[0;34m=\u001b[0m \u001b[0mtopsort\u001b[0m\u001b[0;34m.\u001b[0m\u001b[0mtopsort\u001b[0m\u001b[0;34m(\u001b[0m\u001b[0mself\u001b[0m\u001b[0;34m.\u001b[0m\u001b[0medges\u001b[0m\u001b[0;34m(\u001b[0m\u001b[0;34m)\u001b[0m\u001b[0;34m)\u001b[0m\u001b[0;34m\u001b[0m\u001b[0m\n\u001b[0m\u001b[1;32m   1805\u001b[0m         \u001b[0morder\u001b[0m\u001b[0;34m.\u001b[0m\u001b[0mreverse\u001b[0m\u001b[0;34m(\u001b[0m\u001b[0;34m)\u001b[0m\u001b[0;34m\u001b[0m\u001b[0m\n\u001b[1;32m   1806\u001b[0m         \u001b[0;31m# Insert roots (they may be disconnected)\u001b[0m\u001b[0;34m\u001b[0m\u001b[0;34m\u001b[0m\u001b[0m\n",
      "\u001b[0;32m/Users/mforbes/work/mmfbb/persist/persist/_contrib/RADLogic/topsort.pyc\u001b[0m in \u001b[0;36mtopsort\u001b[0;34m(pairlist)\u001b[0m\n\u001b[1;32m    109\u001b[0m         \u001b[0;31m# Everything in num_parents has at least one child ->\u001b[0m\u001b[0;34m\u001b[0m\u001b[0;34m\u001b[0m\u001b[0m\n\u001b[1;32m    110\u001b[0m         \u001b[0;31m# there's a cycle.\u001b[0m\u001b[0;34m\u001b[0m\u001b[0;34m\u001b[0m\u001b[0m\n\u001b[0;32m--> 111\u001b[0;31m         \u001b[0;32mraise\u001b[0m \u001b[0mCycleError\u001b[0m\u001b[0;34m(\u001b[0m\u001b[0manswer\u001b[0m\u001b[0;34m,\u001b[0m \u001b[0mnum_parents\u001b[0m\u001b[0;34m,\u001b[0m \u001b[0mchildren\u001b[0m\u001b[0;34m)\u001b[0m\u001b[0;34m\u001b[0m\u001b[0m\n\u001b[0m\u001b[1;32m    112\u001b[0m     \u001b[0;32mreturn\u001b[0m \u001b[0manswer\u001b[0m\u001b[0;34m\u001b[0m\u001b[0m\n\u001b[1;32m    113\u001b[0m \u001b[0;34m\u001b[0m\u001b[0m\n",
      "\u001b[0;31mCycleError\u001b[0m: Archive contains cyclic dependencies."
     ]
    }
   ],
   "source": [
    "import persist.archive;reload(persist.archive)\n",
    "a = persist.archive.Archive()\n",
    "a.insert(u=u)\n",
    "print str(a)"
   ]
  },
  {
   "cell_type": "code",
   "execution_count": null,
   "metadata": {
    "collapsed": true
   },
   "outputs": [],
   "source": []
  }
 ],
 "metadata": {
  "kernelspec": {
   "display_name": "Python 2",
   "language": "python",
   "name": "python2"
  },
  "language_info": {
   "codemirror_mode": {
    "name": "ipython",
    "version": 2
   },
   "file_extension": ".py",
   "mimetype": "text/x-python",
   "name": "python",
   "nbconvert_exporter": "python",
   "pygments_lexer": "ipython2",
   "version": "2.7.9"
  }
 },
 "nbformat": 4,
 "nbformat_minor": 0
}
